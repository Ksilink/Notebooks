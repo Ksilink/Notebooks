{
 "cells": [
  {
   "cell_type": "markdown",
   "metadata": {},
   "source": [
    "Imports"
   ]
  },
  {
   "cell_type": "code",
   "execution_count": 6,
   "metadata": {},
   "outputs": [],
   "source": [
    "import pandas as pd\n",
    "import seaborn as sns\n",
    "import matplotlib.pyplot as plt\n",
    "from matplotlib import rcParams\n",
    "from statannotations.Annotator import Annotator"
   ]
  },
  {
   "cell_type": "markdown",
   "metadata": {},
   "source": [
    "Data loading and conversion"
   ]
  },
  {
   "cell_type": "code",
   "execution_count": 7,
   "metadata": {},
   "outputs": [
    {
     "data": {
      "application/vnd.microsoft.datawrangler.viewer.v0+json": {
       "columns": [
        {
         "name": "index",
         "rawType": "int64",
         "type": "integer"
        },
        {
         "name": "Condition",
         "rawType": "object",
         "type": "string"
        },
        {
         "name": "Fold change (ddCt)",
         "rawType": "float64",
         "type": "float"
        }
       ],
       "ref": "f168f4f7-c09a-4ab3-9be2-0429b5e4eefa",
       "rows": [
        [
         "0",
         "SNCA-KO",
         "0.148650889"
        ],
        [
         "1",
         "SNCA-KO",
         "0.186856156"
        ],
        [
         "2",
         "SNCA-KO",
         "0.175555609"
        ],
        [
         "3",
         "SNCA-KO",
         "0.26425451"
        ],
        [
         "4",
         "SNCA-corr",
         "0.907519155"
        ],
        [
         "5",
         "SNCA-corr",
         "1.021012126"
        ],
        [
         "6",
         "SNCA-corr",
         "1.064370182"
        ],
        [
         "7",
         "SNCA-corr",
         "1.01395948"
        ],
        [
         "8",
         "SNCA-4x",
         "1.635804117"
        ],
        [
         "9",
         "SNCA-4x",
         "1.658639092"
        ],
        [
         "10",
         "SNCA-4x",
         "1.356604327"
        ],
        [
         "11",
         "SNCA-4x + TyrA9",
         "1.569168196"
        ],
        [
         "12",
         "SNCA-4x + TyrA9",
         "1.729074463"
        ],
        [
         "13",
         "SNCA-4x + TyrA9",
         "1.505246747"
        ],
        [
         "14",
         "SNCA-4x + TyrA9",
         "1.658639092"
        ]
       ],
       "shape": {
        "columns": 2,
        "rows": 15
       }
      },
      "text/html": [
       "<div>\n",
       "<style scoped>\n",
       "    .dataframe tbody tr th:only-of-type {\n",
       "        vertical-align: middle;\n",
       "    }\n",
       "\n",
       "    .dataframe tbody tr th {\n",
       "        vertical-align: top;\n",
       "    }\n",
       "\n",
       "    .dataframe thead th {\n",
       "        text-align: right;\n",
       "    }\n",
       "</style>\n",
       "<table border=\"1\" class=\"dataframe\">\n",
       "  <thead>\n",
       "    <tr style=\"text-align: right;\">\n",
       "      <th></th>\n",
       "      <th>Condition</th>\n",
       "      <th>Fold change (ddCt)</th>\n",
       "    </tr>\n",
       "  </thead>\n",
       "  <tbody>\n",
       "    <tr>\n",
       "      <th>0</th>\n",
       "      <td>SNCA-KO</td>\n",
       "      <td>0.148651</td>\n",
       "    </tr>\n",
       "    <tr>\n",
       "      <th>1</th>\n",
       "      <td>SNCA-KO</td>\n",
       "      <td>0.186856</td>\n",
       "    </tr>\n",
       "    <tr>\n",
       "      <th>2</th>\n",
       "      <td>SNCA-KO</td>\n",
       "      <td>0.175556</td>\n",
       "    </tr>\n",
       "    <tr>\n",
       "      <th>3</th>\n",
       "      <td>SNCA-KO</td>\n",
       "      <td>0.264255</td>\n",
       "    </tr>\n",
       "    <tr>\n",
       "      <th>4</th>\n",
       "      <td>SNCA-corr</td>\n",
       "      <td>0.907519</td>\n",
       "    </tr>\n",
       "    <tr>\n",
       "      <th>5</th>\n",
       "      <td>SNCA-corr</td>\n",
       "      <td>1.021012</td>\n",
       "    </tr>\n",
       "    <tr>\n",
       "      <th>6</th>\n",
       "      <td>SNCA-corr</td>\n",
       "      <td>1.064370</td>\n",
       "    </tr>\n",
       "    <tr>\n",
       "      <th>7</th>\n",
       "      <td>SNCA-corr</td>\n",
       "      <td>1.013959</td>\n",
       "    </tr>\n",
       "    <tr>\n",
       "      <th>8</th>\n",
       "      <td>SNCA-4x</td>\n",
       "      <td>1.635804</td>\n",
       "    </tr>\n",
       "    <tr>\n",
       "      <th>9</th>\n",
       "      <td>SNCA-4x</td>\n",
       "      <td>1.658639</td>\n",
       "    </tr>\n",
       "    <tr>\n",
       "      <th>10</th>\n",
       "      <td>SNCA-4x</td>\n",
       "      <td>1.356604</td>\n",
       "    </tr>\n",
       "    <tr>\n",
       "      <th>11</th>\n",
       "      <td>SNCA-4x + TyrA9</td>\n",
       "      <td>1.569168</td>\n",
       "    </tr>\n",
       "    <tr>\n",
       "      <th>12</th>\n",
       "      <td>SNCA-4x + TyrA9</td>\n",
       "      <td>1.729074</td>\n",
       "    </tr>\n",
       "    <tr>\n",
       "      <th>13</th>\n",
       "      <td>SNCA-4x + TyrA9</td>\n",
       "      <td>1.505247</td>\n",
       "    </tr>\n",
       "    <tr>\n",
       "      <th>14</th>\n",
       "      <td>SNCA-4x + TyrA9</td>\n",
       "      <td>1.658639</td>\n",
       "    </tr>\n",
       "  </tbody>\n",
       "</table>\n",
       "</div>"
      ],
      "text/plain": [
       "          Condition  Fold change (ddCt)\n",
       "0           SNCA-KO            0.148651\n",
       "1           SNCA-KO            0.186856\n",
       "2           SNCA-KO            0.175556\n",
       "3           SNCA-KO            0.264255\n",
       "4         SNCA-corr            0.907519\n",
       "5         SNCA-corr            1.021012\n",
       "6         SNCA-corr            1.064370\n",
       "7         SNCA-corr            1.013959\n",
       "8           SNCA-4x            1.635804\n",
       "9           SNCA-4x            1.658639\n",
       "10          SNCA-4x            1.356604\n",
       "11  SNCA-4x + TyrA9            1.569168\n",
       "12  SNCA-4x + TyrA9            1.729074\n",
       "13  SNCA-4x + TyrA9            1.505247\n",
       "14  SNCA-4x + TyrA9            1.658639"
      ]
     },
     "execution_count": 7,
     "metadata": {},
     "output_type": "execute_result"
    }
   ],
   "source": [
    "# Data loading\n",
    "df = pd.read_csv('qPCR_data.csv')\n",
    "df\n"
   ]
  },
  {
   "cell_type": "markdown",
   "metadata": {},
   "source": [
    "Plotting    "
   ]
  },
  {
   "cell_type": "code",
   "execution_count": null,
   "metadata": {},
   "outputs": [
    {
     "name": "stderr",
     "output_type": "stream",
     "text": [
      "C:\\Users\\JohannesWilbertz\\AppData\\Local\\Temp\\ipykernel_37976\\4081332564.py:29: UserWarning: FixedFormatter should only be used together with FixedLocator\n",
      "  ax.set_xticklabels(labels, rotation=45, ha='right', rotation_mode='anchor')\n"
     ]
    },
    {
     "name": "stdout",
     "output_type": "stream",
     "text": [
      "p-value annotation legend:\n",
      "      ns: 5.00e-02 < p <= 1.00e+00\n",
      "       *: 1.00e-02 < p <= 5.00e-02\n",
      "      **: 1.00e-03 < p <= 1.00e-02\n",
      "     ***: 1.00e-04 < p <= 1.00e-03\n",
      "    ****: p <= 1.00e-04\n",
      "\n",
      "SNCA-KO vs. SNCA-corr: Welch's t-test independent samples, P_val:2.579e-06 t=-1.945e+01\n",
      "SNCA-corr vs. SNCA-4x: Welch's t-test independent samples, P_val:2.054e-02 t=-5.345e+00\n",
      "SNCA-4x vs. SNCA-4x + TyrA9: Welch's t-test independent samples, P_val:5.912e-01 t=-5.988e-01\n",
      "SNCA-corr vs. SNCA-4x + TyrA9: Welch's t-test independent samples, P_val:1.071e-04 t=-1.033e+01\n"
     ]
    },
    {
     "data": {
      "image/png": "[encoded data removed]",
      "text/plain": [
       "<Figure size 640x480 with 1 Axes>"
      ]
     },
     "metadata": {},
     "output_type": "display_data"
    }
   ],
   "source": [
    "data = df\n",
    "x = 'Condition'\n",
    "y = 'Fold change (ddCt)' \n",
    "\n",
    "# Set the seaborn style to \"talk\" and font to \"Arial\"\n",
    "sns.set_context(\"talk\")\n",
    "rcParams['font.family'] = 'Arial'\n",
    "\n",
    "# Plot data points\n",
    "ax = sns.stripplot(data=data, x=x, y=y, s=8, color='black')\n",
    "\n",
    "# Overlay bar graph\n",
    "ax = sns.barplot(data=data, x=x, y=y, color='gray', edgecolor=\"0\")\n",
    "\n",
    "# Rotate x-axis labels and align them with ticks\n",
    "plt.xticks(rotation=45, ha='right', rotation_mode='anchor')\n",
    "\n",
    "# Set plot title and labels\n",
    "plt.xlabel('')\n",
    "plt.ylabel('SNCA relative to ACTB (ddCt)')\n",
    "\n",
    "# Axis scale\n",
    "ax.set_box_aspect(1)\n",
    "#ax.set_ylim(0, 1.5)\n",
    "\n",
    "# Turn labels\n",
    "labels = ax.get_xticklabels()\n",
    "ax.set_xticklabels(labels, rotation=45, ha='right', rotation_mode='anchor')\n",
    "\n",
    "# Add statistical annotation on top of figure\n",
    "stat_pairs=[('SNCA-corr', 'SNCA-KO'), \n",
    "            ('SNCA-corr', 'SNCA-4x'),\n",
    "            ('SNCA-corr', 'SNCA-4x + TyrA9'),\n",
    "            ('SNCA-4x', 'SNCA-4x + TyrA9')\n",
    "            ]\n",
    "\n",
    "annot = Annotator(ax, stat_pairs, data=data, x=x, y=y)\n",
    "annot.configure(test='t-test_welch', verbose=2, loc='outside') # t-test_welch\n",
    "annot.apply_test()\n",
    "annot.annotate()\n",
    "\n",
    "# Save the plot\n",
    "plt.savefig('qPCR_SNCA' + '.pdf', bbox_inches='tight')\n",
    "plt.show()\n"
   ]
  },
  {
   "cell_type": "code",
   "execution_count": null,
   "metadata": {},
   "outputs": [],
   "source": []
  }
 ],
 "metadata": {
  "kernelspec": {
   "display_name": "tools",
   "language": "python",
   "name": "python3"
  },
  "language_info": {
   "codemirror_mode": {
    "name": "ipython",
    "version": 3
   },
   "file_extension": ".py",
   "mimetype": "text/x-python",
   "name": "python",
   "nbconvert_exporter": "python",
   "pygments_lexer": "ipython3",
   "version": "3.10.13"
  }
 },
 "nbformat": 4,
 "nbformat_minor": 2
}
