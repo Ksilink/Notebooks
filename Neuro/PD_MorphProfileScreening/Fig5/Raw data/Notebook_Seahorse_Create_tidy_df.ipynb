{
 "cells": [
  {
   "cell_type": "markdown",
   "metadata": {},
   "source": [
    "Imports"
   ]
  },
  {
   "cell_type": "code",
   "execution_count": 6,
   "metadata": {},
   "outputs": [],
   "source": [
    "import pandas as pd"
   ]
  },
  {
   "cell_type": "markdown",
   "metadata": {},
   "source": [
    "Convert raw data to tidy format"
   ]
  },
  {
   "cell_type": "code",
   "execution_count": 7,
   "metadata": {},
   "outputs": [],
   "source": [
    "# Load the data\n",
    "df = pd.read_csv('Similar_compounds_Seahorse_SD.csv')"
   ]
  },
  {
   "cell_type": "code",
   "execution_count": 8,
   "metadata": {},
   "outputs": [
    {
     "data": {
      "text/html": [
       "<div>\n",
       "<style scoped>\n",
       "    .dataframe tbody tr th:only-of-type {\n",
       "        vertical-align: middle;\n",
       "    }\n",
       "\n",
       "    .dataframe tbody tr th {\n",
       "        vertical-align: top;\n",
       "    }\n",
       "\n",
       "    .dataframe thead th {\n",
       "        text-align: right;\n",
       "    }\n",
       "</style>\n",
       "<table border=\"1\" class=\"dataframe\">\n",
       "  <thead>\n",
       "    <tr style=\"text-align: right;\">\n",
       "      <th></th>\n",
       "      <th>Measurement</th>\n",
       "      <th>Condition</th>\n",
       "      <th>Values</th>\n",
       "    </tr>\n",
       "  </thead>\n",
       "  <tbody>\n",
       "    <tr>\n",
       "      <th>0</th>\n",
       "      <td>1</td>\n",
       "      <td>FCCP_2.5</td>\n",
       "      <td>0.0412921</td>\n",
       "    </tr>\n",
       "    <tr>\n",
       "      <th>1</th>\n",
       "      <td>2</td>\n",
       "      <td>FCCP_2.5</td>\n",
       "      <td>0.061162316</td>\n",
       "    </tr>\n",
       "    <tr>\n",
       "      <th>2</th>\n",
       "      <td>3</td>\n",
       "      <td>FCCP_2.5</td>\n",
       "      <td>0.066019383</td>\n",
       "    </tr>\n",
       "    <tr>\n",
       "      <th>3</th>\n",
       "      <td>4</td>\n",
       "      <td>FCCP_2.5</td>\n",
       "      <td>0.005761607</td>\n",
       "    </tr>\n",
       "    <tr>\n",
       "      <th>4</th>\n",
       "      <td>5</td>\n",
       "      <td>FCCP_2.5</td>\n",
       "      <td>0.028422701</td>\n",
       "    </tr>\n",
       "    <tr>\n",
       "      <th>...</th>\n",
       "      <td>...</td>\n",
       "      <td>...</td>\n",
       "      <td>...</td>\n",
       "    </tr>\n",
       "    <tr>\n",
       "      <th>91</th>\n",
       "      <td>8</td>\n",
       "      <td>TIC_2.5</td>\n",
       "      <td>0.235500033</td>\n",
       "    </tr>\n",
       "    <tr>\n",
       "      <th>92</th>\n",
       "      <td>9</td>\n",
       "      <td>TIC_2.5</td>\n",
       "      <td>0.229740525</td>\n",
       "    </tr>\n",
       "    <tr>\n",
       "      <th>93</th>\n",
       "      <td>10</td>\n",
       "      <td>TIC_2.5</td>\n",
       "      <td>0.093659078</td>\n",
       "    </tr>\n",
       "    <tr>\n",
       "      <th>94</th>\n",
       "      <td>11</td>\n",
       "      <td>TIC_2.5</td>\n",
       "      <td>0.064897478</td>\n",
       "    </tr>\n",
       "    <tr>\n",
       "      <th>95</th>\n",
       "      <td>12</td>\n",
       "      <td>TIC_2.5</td>\n",
       "      <td>0.055798491</td>\n",
       "    </tr>\n",
       "  </tbody>\n",
       "</table>\n",
       "<p>96 rows × 3 columns</p>\n",
       "</div>"
      ],
      "text/plain": [
       "    Measurement Condition       Values\n",
       "0             1  FCCP_2.5    0.0412921\n",
       "1             2  FCCP_2.5  0.061162316\n",
       "2             3  FCCP_2.5  0.066019383\n",
       "3             4  FCCP_2.5  0.005761607\n",
       "4             5  FCCP_2.5  0.028422701\n",
       "..          ...       ...          ...\n",
       "91            8   TIC_2.5  0.235500033\n",
       "92            9   TIC_2.5  0.229740525\n",
       "93           10   TIC_2.5  0.093659078\n",
       "94           11   TIC_2.5  0.064897478\n",
       "95           12   TIC_2.5  0.055798491\n",
       "\n",
       "[96 rows x 3 columns]"
      ]
     },
     "execution_count": 8,
     "metadata": {},
     "output_type": "execute_result"
    }
   ],
   "source": [
    "# Melt the dataframe to a long format\n",
    "tidy_df = df.melt(id_vars='Measurement', var_name='Condition', value_name='Values')\n",
    "\n",
    "# Drop NaNs\n",
    "tidy_df = tidy_df.dropna()\n",
    "# Remove stars\n",
    "tidy_df['Values'] = tidy_df['Values'].astype(str).str.replace(r'\\*', '', regex=True)\n",
    "\n",
    "tidy_df.to_csv('Similar_compounds_Seahorse_SD_for_plotting.csv')\n",
    "\n",
    "tidy_df\n",
    "\n"
   ]
  }
 ],
 "metadata": {
  "kernelspec": {
   "display_name": "base",
   "language": "python",
   "name": "python3"
  },
  "language_info": {
   "codemirror_mode": {
    "name": "ipython",
    "version": 3
   },
   "file_extension": ".py",
   "mimetype": "text/x-python",
   "name": "python",
   "nbconvert_exporter": "python",
   "pygments_lexer": "ipython3",
   "version": "3.10.13"
  }
 },
 "nbformat": 4,
 "nbformat_minor": 2
}
