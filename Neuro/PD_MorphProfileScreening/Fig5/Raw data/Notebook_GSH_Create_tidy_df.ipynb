{
 "cells": [
  {
   "cell_type": "markdown",
   "metadata": {},
   "source": [
    "Imports"
   ]
  },
  {
   "cell_type": "code",
   "execution_count": 1,
   "metadata": {},
   "outputs": [],
   "source": [
    "import pandas as pd"
   ]
  },
  {
   "cell_type": "markdown",
   "metadata": {},
   "source": [
    "Convert raw data to tidy format"
   ]
  },
  {
   "cell_type": "code",
   "execution_count": 2,
   "metadata": {},
   "outputs": [],
   "source": [
    "# Load the data\n",
    "df = pd.read_csv('Similar_compounds_GSH.csv')"
   ]
  },
  {
   "cell_type": "code",
   "execution_count": 3,
   "metadata": {},
   "outputs": [
    {
     "data": {
      "text/html": [
       "<div>\n",
       "<style scoped>\n",
       "    .dataframe tbody tr th:only-of-type {\n",
       "        vertical-align: middle;\n",
       "    }\n",
       "\n",
       "    .dataframe tbody tr th {\n",
       "        vertical-align: top;\n",
       "    }\n",
       "\n",
       "    .dataframe thead th {\n",
       "        text-align: right;\n",
       "    }\n",
       "</style>\n",
       "<table border=\"1\" class=\"dataframe\">\n",
       "  <thead>\n",
       "    <tr style=\"text-align: right;\">\n",
       "      <th></th>\n",
       "      <th>Condition</th>\n",
       "      <th>Values</th>\n",
       "    </tr>\n",
       "  </thead>\n",
       "  <tbody>\n",
       "    <tr>\n",
       "      <th>0</th>\n",
       "      <td>GC</td>\n",
       "      <td>0.717883</td>\n",
       "    </tr>\n",
       "    <tr>\n",
       "      <th>1</th>\n",
       "      <td>GC</td>\n",
       "      <td>0.739186</td>\n",
       "    </tr>\n",
       "    <tr>\n",
       "      <th>2</th>\n",
       "      <td>GC</td>\n",
       "      <td>0.768308</td>\n",
       "    </tr>\n",
       "    <tr>\n",
       "      <th>3</th>\n",
       "      <td>GC</td>\n",
       "      <td>0.885582</td>\n",
       "    </tr>\n",
       "    <tr>\n",
       "      <th>4</th>\n",
       "      <td>GC</td>\n",
       "      <td>1.148214</td>\n",
       "    </tr>\n",
       "    <tr>\n",
       "      <th>...</th>\n",
       "      <td>...</td>\n",
       "      <td>...</td>\n",
       "    </tr>\n",
       "    <tr>\n",
       "      <th>352</th>\n",
       "      <td>EN300 0.5 Um</td>\n",
       "      <td>0.949254</td>\n",
       "    </tr>\n",
       "    <tr>\n",
       "      <th>353</th>\n",
       "      <td>EN300 0.5 Um</td>\n",
       "      <td>0.896338</td>\n",
       "    </tr>\n",
       "    <tr>\n",
       "      <th>354</th>\n",
       "      <td>EN300 0.5 Um</td>\n",
       "      <td>0.882862</td>\n",
       "    </tr>\n",
       "    <tr>\n",
       "      <th>355</th>\n",
       "      <td>EN300 0.5 Um</td>\n",
       "      <td>0.902713</td>\n",
       "    </tr>\n",
       "    <tr>\n",
       "      <th>356</th>\n",
       "      <td>EN300 0.5 Um</td>\n",
       "      <td>0.872071</td>\n",
       "    </tr>\n",
       "  </tbody>\n",
       "</table>\n",
       "<p>282 rows × 2 columns</p>\n",
       "</div>"
      ],
      "text/plain": [
       "        Condition    Values\n",
       "0              GC  0.717883\n",
       "1              GC  0.739186\n",
       "2              GC  0.768308\n",
       "3              GC  0.885582\n",
       "4              GC  1.148214\n",
       "..            ...       ...\n",
       "352  EN300 0.5 Um  0.949254\n",
       "353  EN300 0.5 Um  0.896338\n",
       "354  EN300 0.5 Um  0.882862\n",
       "355  EN300 0.5 Um  0.902713\n",
       "356  EN300 0.5 Um  0.872071\n",
       "\n",
       "[282 rows x 2 columns]"
      ]
     },
     "execution_count": 3,
     "metadata": {},
     "output_type": "execute_result"
    }
   ],
   "source": [
    "# Melt the dataframe to a long format\n",
    "tidy_df = df.melt(var_name='Condition', value_name='Values')\n",
    "\n",
    "# Drop NaNs\n",
    "tidy_df = tidy_df.dropna()\n",
    "# Remove stars\n",
    "tidy_df['Values'] = tidy_df['Values'].astype(str).str.replace(r'\\*', '', regex=True)\n",
    "\n",
    "tidy_df.to_csv('Similar_compounds_GSH_for_plotting.csv')\n",
    "\n",
    "tidy_df\n",
    "\n"
   ]
  }
 ],
 "metadata": {
  "kernelspec": {
   "display_name": "base",
   "language": "python",
   "name": "python3"
  },
  "language_info": {
   "codemirror_mode": {
    "name": "ipython",
    "version": 3
   },
   "file_extension": ".py",
   "mimetype": "text/x-python",
   "name": "python",
   "nbconvert_exporter": "python",
   "pygments_lexer": "ipython3",
   "version": "3.10.13"
  }
 },
 "nbformat": 4,
 "nbformat_minor": 2
}
