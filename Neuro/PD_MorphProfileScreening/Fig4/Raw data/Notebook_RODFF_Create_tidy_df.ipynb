{
 "cells": [
  {
   "cell_type": "markdown",
   "metadata": {},
   "source": [
    "Imports"
   ]
  },
  {
   "cell_type": "code",
   "execution_count": 18,
   "metadata": {},
   "outputs": [],
   "source": [
    "import pandas as pd"
   ]
  },
  {
   "cell_type": "markdown",
   "metadata": {},
   "source": [
    "Convert raw data to tidy format"
   ]
  },
  {
   "cell_type": "code",
   "execution_count": 19,
   "metadata": {},
   "outputs": [],
   "source": [
    "# Load the data\n",
    "df = pd.read_csv('RHODFF all results.csv')"
   ]
  },
  {
   "cell_type": "code",
   "execution_count": 20,
   "metadata": {},
   "outputs": [
    {
     "data": {
      "text/html": [
       "<div>\n",
       "<style scoped>\n",
       "    .dataframe tbody tr th:only-of-type {\n",
       "        vertical-align: middle;\n",
       "    }\n",
       "\n",
       "    .dataframe tbody tr th {\n",
       "        vertical-align: top;\n",
       "    }\n",
       "\n",
       "    .dataframe thead th {\n",
       "        text-align: right;\n",
       "    }\n",
       "</style>\n",
       "<table border=\"1\" class=\"dataframe\">\n",
       "  <thead>\n",
       "    <tr style=\"text-align: right;\">\n",
       "      <th></th>\n",
       "      <th>Time (sec)</th>\n",
       "      <th>Condition</th>\n",
       "      <th>Values</th>\n",
       "    </tr>\n",
       "  </thead>\n",
       "  <tbody>\n",
       "    <tr>\n",
       "      <th>0</th>\n",
       "      <td>30</td>\n",
       "      <td>GC</td>\n",
       "      <td>0.903648</td>\n",
       "    </tr>\n",
       "    <tr>\n",
       "      <th>1</th>\n",
       "      <td>60</td>\n",
       "      <td>GC</td>\n",
       "      <td>0.900182</td>\n",
       "    </tr>\n",
       "    <tr>\n",
       "      <th>2</th>\n",
       "      <td>90</td>\n",
       "      <td>GC</td>\n",
       "      <td>0.91157</td>\n",
       "    </tr>\n",
       "    <tr>\n",
       "      <th>3</th>\n",
       "      <td>120</td>\n",
       "      <td>GC</td>\n",
       "      <td>0.890279</td>\n",
       "    </tr>\n",
       "    <tr>\n",
       "      <th>4</th>\n",
       "      <td>150</td>\n",
       "      <td>GC</td>\n",
       "      <td>1.163601</td>\n",
       "    </tr>\n",
       "    <tr>\n",
       "      <th>...</th>\n",
       "      <td>...</td>\n",
       "      <td>...</td>\n",
       "      <td>...</td>\n",
       "    </tr>\n",
       "    <tr>\n",
       "      <th>1123</th>\n",
       "      <td>120</td>\n",
       "      <td>Tyr 0.5 Um</td>\n",
       "      <td>1.279218</td>\n",
       "    </tr>\n",
       "    <tr>\n",
       "      <th>1124</th>\n",
       "      <td>150</td>\n",
       "      <td>Tyr 0.5 Um</td>\n",
       "      <td>2.236766</td>\n",
       "    </tr>\n",
       "    <tr>\n",
       "      <th>1125</th>\n",
       "      <td>180</td>\n",
       "      <td>Tyr 0.5 Um</td>\n",
       "      <td>2.279876</td>\n",
       "    </tr>\n",
       "    <tr>\n",
       "      <th>1126</th>\n",
       "      <td>210</td>\n",
       "      <td>Tyr 0.5 Um</td>\n",
       "      <td>2.334593</td>\n",
       "    </tr>\n",
       "    <tr>\n",
       "      <th>1127</th>\n",
       "      <td>240</td>\n",
       "      <td>Tyr 0.5 Um</td>\n",
       "      <td>2.461438</td>\n",
       "    </tr>\n",
       "  </tbody>\n",
       "</table>\n",
       "<p>1128 rows × 3 columns</p>\n",
       "</div>"
      ],
      "text/plain": [
       "      Time (sec)   Condition    Values\n",
       "0             30          GC  0.903648\n",
       "1             60          GC  0.900182\n",
       "2             90          GC   0.91157\n",
       "3            120          GC  0.890279\n",
       "4            150          GC  1.163601\n",
       "...          ...         ...       ...\n",
       "1123         120  Tyr 0.5 Um  1.279218\n",
       "1124         150  Tyr 0.5 Um  2.236766\n",
       "1125         180  Tyr 0.5 Um  2.279876\n",
       "1126         210  Tyr 0.5 Um  2.334593\n",
       "1127         240  Tyr 0.5 Um  2.461438\n",
       "\n",
       "[1128 rows x 3 columns]"
      ]
     },
     "execution_count": 20,
     "metadata": {},
     "output_type": "execute_result"
    }
   ],
   "source": [
    "# Melt the dataframe to a long format\n",
    "tidy_df = df.melt(id_vars='SECONDS', var_name='Condition', value_name='Values')\n",
    "\n",
    "# Rename the 'SECONDS' column to 'Time (sec)'\n",
    "tidy_df = tidy_df.rename(columns={'SECONDS': 'Time (sec)'})\n",
    "\n",
    "# Remove dots and stars from data\n",
    "tidy_df['Condition'] = tidy_df['Condition'].str.replace(r'\\.\\w{1,2}$', '', regex=True)\n",
    "tidy_df['Values'] = tidy_df['Values'].astype(str).str.replace(r'\\*', '', regex=True)\n",
    "\n",
    "tidy_df.to_csv('RHODFF_for_plotting.csv')\n",
    "\n",
    "tidy_df\n",
    "\n"
   ]
  }
 ],
 "metadata": {
  "kernelspec": {
   "display_name": "base",
   "language": "python",
   "name": "python3"
  },
  "language_info": {
   "codemirror_mode": {
    "name": "ipython",
    "version": 3
   },
   "file_extension": ".py",
   "mimetype": "text/x-python",
   "name": "python",
   "nbconvert_exporter": "python",
   "pygments_lexer": "ipython3",
   "version": "3.11.5"
  }
 },
 "nbformat": 4,
 "nbformat_minor": 2
}
