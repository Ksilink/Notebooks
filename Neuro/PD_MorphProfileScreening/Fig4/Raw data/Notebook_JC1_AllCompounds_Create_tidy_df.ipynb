{
 "cells": [
  {
   "cell_type": "markdown",
   "metadata": {},
   "source": [
    "Read all sheets from input Excel into single dataframe"
   ]
  },
  {
   "cell_type": "code",
   "execution_count": 6,
   "metadata": {},
   "outputs": [],
   "source": [
    "import pandas as pd\n",
    "import numpy as np\n",
    "import seaborn as sns\n",
    "import matplotlib.pyplot as plt\n",
    "\n",
    "# Load spreadsheet using openpyxl\n",
    "xl = pd.ExcelFile('JC1_all_compounds.xlsx', engine='openpyxl')\n",
    "\n",
    "# Get the names of all sheets in the Excel file\n",
    "sheet_names = xl.sheet_names\n",
    "\n",
    "# Create a list to store all dataframes\n",
    "all_dfs = []\n",
    "\n",
    "# Read each sheet into a separate dataframe and add to the list\n",
    "for sheet in sheet_names:\n",
    "    df = xl.parse(sheet)\n",
    "    \n",
    "    # Rename columns not containing \"SNCA\" or \"GC\" with the sheet name as prefix\n",
    "    df.columns = [f'{sheet}_{col}' if 'SNCA' not in col and 'GC' not in col else col for col in df.columns]\n",
    "    \n",
    "    # Remove any columns named 'Unnamed: 1'\n",
    "    # Get a list of all columns that contain 'Unnamed: 1'\n",
    "    cols_to_drop = [col for col in df.columns if 'Unnamed: 1' in col]\n",
    "\n",
    "    # Drop these columns from the dataframe\n",
    "    df = df.drop(columns=cols_to_drop)\n",
    "    \n",
    "    all_dfs.append(df)\n",
    "\n",
    "# Concatenate all dataframes into a single dataframe\n",
    "final_df = pd.concat(all_dfs, ignore_index=True)\n"
   ]
  },
  {
   "cell_type": "markdown",
   "metadata": {},
   "source": [
    "Reorganize data"
   ]
  },
  {
   "cell_type": "code",
   "execution_count": 7,
   "metadata": {},
   "outputs": [],
   "source": [
    "# Melt the dataframe to create a tidy dataframe\n",
    "tidy_df = final_df.melt(var_name='column', value_name='value')\n",
    "\n",
    "# Remove stars from data\n",
    "tidy_df['value'] = tidy_df['value'].astype(str).str.replace(r'\\*', '', regex=True)\n",
    "\n",
    "# Remove rows with non-numeric values in 'value'\n",
    "tidy_df = tidy_df[pd.to_numeric(tidy_df['value'], errors='coerce').notnull()]\n",
    "\n",
    "# Create compound column containing info about used treatment\n",
    "tidy_df['Compound'] = tidy_df['column'].apply(lambda x: x.split('_')[0] if '_' in x else x)"
   ]
  },
  {
   "cell_type": "code",
   "execution_count": 8,
   "metadata": {},
   "outputs": [],
   "source": [
    "# Assuming tidy_df is your DataFrame and 'column' is the column of interest\n",
    "# Create a dictionary for the conversion\n",
    "conversion_dict = {\n",
    "    '_10nM': 1e-8,\n",
    "    '_100nM': 1e-7,\n",
    "    '_0.5μΜ': 0.5e-6,\n",
    "    '_1μM': 1e-6,\n",
    "    '_2.5μΜ': 2.5e-6,\n",
    "    '_5μM': 5e-6,\n",
    "    '_10μM': 10e-6\n",
    "}\n",
    "\n",
    "# Create a new column 'Concentration (M)' and initialize with 0\n",
    "tidy_df['Concentration (M)'] = 0\n",
    "\n",
    "# Iterate over the conversion_dict\n",
    "for k, v in conversion_dict.items():\n",
    "    # Find rows where 'column' contains the key\n",
    "    mask = tidy_df['column'].str.contains(k, regex=False)\n",
    "    # Update 'Concentration (M)' with the value\n",
    "    tidy_df.loc[mask, 'Concentration (M)'] = v\n",
    "\n",
    "# Convert 'value' column to numeric\n",
    "tidy_df['value'] = pd.to_numeric(tidy_df['value'], errors='coerce')"
   ]
  },
  {
   "cell_type": "markdown",
   "metadata": {},
   "source": [
    "Remove technical outliers"
   ]
  },
  {
   "cell_type": "code",
   "execution_count": 9,
   "metadata": {},
   "outputs": [],
   "source": [
    "# Define a function to remove outliers based on standard deviation\n",
    "def remove_outliers(group):\n",
    "    mean = group['value'].mean()\n",
    "    std_dev = group['value'].std()\n",
    "    return group[np.abs(group['value'] - mean) <= 5 * std_dev]\n",
    "\n",
    "# Apply the function to each category\n",
    "tidy_df = tidy_df.groupby('column').apply(remove_outliers).reset_index(drop=True)\n",
    "\n",
    "# Save to csv file\n",
    "tidy_df.to_csv('JC1_all_compounds_for_plotting.csv')"
   ]
  },
  {
   "cell_type": "markdown",
   "metadata": {},
   "source": [
    "Test plot"
   ]
  },
  {
   "cell_type": "code",
   "execution_count": 10,
   "metadata": {},
   "outputs": [
    {
     "data": {
      "image/png": "[encoded data removed]",
      "text/plain": [
       "<Figure size 640x480 with 1 Axes>"
      ]
     },
     "metadata": {},
     "output_type": "display_data"
    }
   ],
   "source": [
    "# Filter out rows in 'column' containing an underscore\n",
    "tidy_df_filtered = tidy_df[~tidy_df['column'].str.contains('_')]\n",
    "\n",
    "# Create a boxplot\n",
    "sns.boxplot(x='column', y='value', data=tidy_df_filtered)\n",
    "\n",
    "# Show the plot\n",
    "plt.show()\n"
   ]
  }
 ],
 "metadata": {
  "kernelspec": {
   "display_name": "base",
   "language": "python",
   "name": "python3"
  },
  "language_info": {
   "codemirror_mode": {
    "name": "ipython",
    "version": 3
   },
   "file_extension": ".py",
   "mimetype": "text/x-python",
   "name": "python",
   "nbconvert_exporter": "python",
   "pygments_lexer": "ipython3",
   "version": "3.11.5"
  }
 },
 "nbformat": 4,
 "nbformat_minor": 2
}
