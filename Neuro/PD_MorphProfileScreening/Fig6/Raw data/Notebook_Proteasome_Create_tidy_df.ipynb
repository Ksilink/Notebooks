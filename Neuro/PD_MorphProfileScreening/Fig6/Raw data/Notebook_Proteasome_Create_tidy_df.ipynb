{
 "cells": [
  {
   "cell_type": "markdown",
   "metadata": {},
   "source": [
    "Imports"
   ]
  },
  {
   "cell_type": "code",
   "execution_count": 13,
   "metadata": {},
   "outputs": [],
   "source": [
    "import pandas as pd"
   ]
  },
  {
   "cell_type": "markdown",
   "metadata": {},
   "source": [
    "Convert raw data to tidy format"
   ]
  },
  {
   "cell_type": "code",
   "execution_count": 14,
   "metadata": {},
   "outputs": [],
   "source": [
    "# Load the data\n",
    "df = pd.read_csv('Proteasome_Caspase_raw_data.csv')"
   ]
  },
  {
   "cell_type": "code",
   "execution_count": 15,
   "metadata": {},
   "outputs": [
    {
     "data": {
      "text/html": [
       "<div>\n",
       "<style scoped>\n",
       "    .dataframe tbody tr th:only-of-type {\n",
       "        vertical-align: middle;\n",
       "    }\n",
       "\n",
       "    .dataframe tbody tr th {\n",
       "        vertical-align: top;\n",
       "    }\n",
       "\n",
       "    .dataframe thead th {\n",
       "        text-align: right;\n",
       "    }\n",
       "</style>\n",
       "<table border=\"1\" class=\"dataframe\">\n",
       "  <thead>\n",
       "    <tr style=\"text-align: right;\">\n",
       "      <th></th>\n",
       "      <th>Condition</th>\n",
       "      <th>Values</th>\n",
       "    </tr>\n",
       "  </thead>\n",
       "  <tbody>\n",
       "    <tr>\n",
       "      <th>0</th>\n",
       "      <td>GC</td>\n",
       "      <td>0.560681</td>\n",
       "    </tr>\n",
       "    <tr>\n",
       "      <th>2</th>\n",
       "      <td>GC</td>\n",
       "      <td>0.79012</td>\n",
       "    </tr>\n",
       "    <tr>\n",
       "      <th>3</th>\n",
       "      <td>GC</td>\n",
       "      <td>1.034226</td>\n",
       "    </tr>\n",
       "    <tr>\n",
       "      <th>4</th>\n",
       "      <td>GC</td>\n",
       "      <td>1.050901</td>\n",
       "    </tr>\n",
       "    <tr>\n",
       "      <th>5</th>\n",
       "      <td>GC</td>\n",
       "      <td>1.165512</td>\n",
       "    </tr>\n",
       "    <tr>\n",
       "      <th>...</th>\n",
       "      <td>...</td>\n",
       "      <td>...</td>\n",
       "    </tr>\n",
       "    <tr>\n",
       "      <th>147</th>\n",
       "      <td>Tyr_0.5</td>\n",
       "      <td>0.641943</td>\n",
       "    </tr>\n",
       "    <tr>\n",
       "      <th>148</th>\n",
       "      <td>Tyr_0.5</td>\n",
       "      <td>0.672982</td>\n",
       "    </tr>\n",
       "    <tr>\n",
       "      <th>149</th>\n",
       "      <td>Tyr_0.5</td>\n",
       "      <td>0.640738</td>\n",
       "    </tr>\n",
       "    <tr>\n",
       "      <th>150</th>\n",
       "      <td>Tyr_0.5</td>\n",
       "      <td>0.821134</td>\n",
       "    </tr>\n",
       "    <tr>\n",
       "      <th>151</th>\n",
       "      <td>Tyr_0.5</td>\n",
       "      <td>0.53462</td>\n",
       "    </tr>\n",
       "  </tbody>\n",
       "</table>\n",
       "<p>98 rows × 2 columns</p>\n",
       "</div>"
      ],
      "text/plain": [
       "    Condition    Values\n",
       "0          GC  0.560681\n",
       "2          GC   0.79012\n",
       "3          GC  1.034226\n",
       "4          GC  1.050901\n",
       "5          GC  1.165512\n",
       "..        ...       ...\n",
       "147   Tyr_0.5  0.641943\n",
       "148   Tyr_0.5  0.672982\n",
       "149   Tyr_0.5  0.640738\n",
       "150   Tyr_0.5  0.821134\n",
       "151   Tyr_0.5   0.53462\n",
       "\n",
       "[98 rows x 2 columns]"
      ]
     },
     "execution_count": 15,
     "metadata": {},
     "output_type": "execute_result"
    }
   ],
   "source": [
    "# Melt the dataframe to a long format\n",
    "tidy_df = df.melt(var_name='Condition', value_name='Values')\n",
    "\n",
    "# Drop NaNs\n",
    "tidy_df = tidy_df.dropna()\n",
    "# Remove stars\n",
    "tidy_df['Values'] = tidy_df['Values'].astype(str).str.replace(r'\\*', '', regex=True)\n",
    "\n",
    "tidy_df.to_csv('Proteasome_Caspase_for_plotting.csv')\n",
    "\n",
    "tidy_df\n",
    "\n"
   ]
  }
 ],
 "metadata": {
  "kernelspec": {
   "display_name": "base",
   "language": "python",
   "name": "python3"
  },
  "language_info": {
   "codemirror_mode": {
    "name": "ipython",
    "version": 3
   },
   "file_extension": ".py",
   "mimetype": "text/x-python",
   "name": "python",
   "nbconvert_exporter": "python",
   "pygments_lexer": "ipython3",
   "version": "3.10.13"
  }
 },
 "nbformat": 4,
 "nbformat_minor": 2
}
